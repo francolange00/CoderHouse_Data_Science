{
 "cells": [
  {
   "cell_type": "markdown",
   "id": "e48efa6b-ef09-4395-9ae6-a3b0444ff834",
   "metadata": {
    "tags": []
   },
   "source": [
    "A continuación se desarrollará el Data Wrangling correspondiente a los datos elegidos pra el proyecto final.\n",
    "\n",
    "En primer lugar importamos el data set y se visualizan los primero 5 valores para tener una idea de como está compuesto dicho dataset:\n",
    "    \n"
   ]
  },
  {
   "cell_type": "code",
   "execution_count": 1,
   "id": "bf45ebf2-b2e8-4fe1-9146-4836ebc30259",
   "metadata": {
    "tags": []
   },
   "outputs": [
    {
     "data": {
      "text/html": [
       "<div>\n",
       "<style scoped>\n",
       "    .dataframe tbody tr th:only-of-type {\n",
       "        vertical-align: middle;\n",
       "    }\n",
       "\n",
       "    .dataframe tbody tr th {\n",
       "        vertical-align: top;\n",
       "    }\n",
       "\n",
       "    .dataframe thead th {\n",
       "        text-align: right;\n",
       "    }\n",
       "</style>\n",
       "<table border=\"1\" class=\"dataframe\">\n",
       "  <thead>\n",
       "    <tr style=\"text-align: right;\">\n",
       "      <th></th>\n",
       "      <th>latitude</th>\n",
       "      <th>longitude</th>\n",
       "      <th>brightness</th>\n",
       "      <th>scan</th>\n",
       "      <th>track</th>\n",
       "      <th>acq_date</th>\n",
       "      <th>acq_time</th>\n",
       "      <th>satellite</th>\n",
       "      <th>instrument</th>\n",
       "      <th>confidence</th>\n",
       "      <th>version</th>\n",
       "      <th>bright_t31</th>\n",
       "      <th>frp</th>\n",
       "      <th>daynight</th>\n",
       "      <th>type</th>\n",
       "    </tr>\n",
       "  </thead>\n",
       "  <tbody>\n",
       "    <tr>\n",
       "      <th>0</th>\n",
       "      <td>37.7296</td>\n",
       "      <td>34.8998</td>\n",
       "      <td>303.3</td>\n",
       "      <td>1.9</td>\n",
       "      <td>1.3</td>\n",
       "      <td>2021-01-01</td>\n",
       "      <td>903</td>\n",
       "      <td>Terra</td>\n",
       "      <td>MODIS</td>\n",
       "      <td>56</td>\n",
       "      <td>6.03</td>\n",
       "      <td>279.3</td>\n",
       "      <td>20.1</td>\n",
       "      <td>D</td>\n",
       "      <td>0</td>\n",
       "    </tr>\n",
       "    <tr>\n",
       "      <th>1</th>\n",
       "      <td>37.7343</td>\n",
       "      <td>34.8774</td>\n",
       "      <td>306.7</td>\n",
       "      <td>1.9</td>\n",
       "      <td>1.3</td>\n",
       "      <td>2021-01-01</td>\n",
       "      <td>903</td>\n",
       "      <td>Terra</td>\n",
       "      <td>MODIS</td>\n",
       "      <td>64</td>\n",
       "      <td>6.03</td>\n",
       "      <td>276.7</td>\n",
       "      <td>24.9</td>\n",
       "      <td>D</td>\n",
       "      <td>0</td>\n",
       "    </tr>\n",
       "    <tr>\n",
       "      <th>2</th>\n",
       "      <td>37.8685</td>\n",
       "      <td>29.0728</td>\n",
       "      <td>300.5</td>\n",
       "      <td>1.0</td>\n",
       "      <td>1.0</td>\n",
       "      <td>2021-01-01</td>\n",
       "      <td>903</td>\n",
       "      <td>Terra</td>\n",
       "      <td>MODIS</td>\n",
       "      <td>38</td>\n",
       "      <td>6.03</td>\n",
       "      <td>286.0</td>\n",
       "      <td>5.0</td>\n",
       "      <td>D</td>\n",
       "      <td>0</td>\n",
       "    </tr>\n",
       "    <tr>\n",
       "      <th>3</th>\n",
       "      <td>37.7362</td>\n",
       "      <td>34.8945</td>\n",
       "      <td>310.3</td>\n",
       "      <td>1.9</td>\n",
       "      <td>1.3</td>\n",
       "      <td>2021-01-01</td>\n",
       "      <td>903</td>\n",
       "      <td>Terra</td>\n",
       "      <td>MODIS</td>\n",
       "      <td>70</td>\n",
       "      <td>6.03</td>\n",
       "      <td>278.8</td>\n",
       "      <td>28.8</td>\n",
       "      <td>D</td>\n",
       "      <td>0</td>\n",
       "    </tr>\n",
       "    <tr>\n",
       "      <th>4</th>\n",
       "      <td>37.1456</td>\n",
       "      <td>40.4709</td>\n",
       "      <td>308.9</td>\n",
       "      <td>1.2</td>\n",
       "      <td>1.1</td>\n",
       "      <td>2021-01-01</td>\n",
       "      <td>1041</td>\n",
       "      <td>Aqua</td>\n",
       "      <td>MODIS</td>\n",
       "      <td>54</td>\n",
       "      <td>6.03</td>\n",
       "      <td>291.1</td>\n",
       "      <td>9.0</td>\n",
       "      <td>D</td>\n",
       "      <td>0</td>\n",
       "    </tr>\n",
       "  </tbody>\n",
       "</table>\n",
       "</div>"
      ],
      "text/plain": [
       "   latitude  longitude  brightness  scan  track    acq_date  acq_time  \\\n",
       "0   37.7296    34.8998       303.3   1.9    1.3  2021-01-01       903   \n",
       "1   37.7343    34.8774       306.7   1.9    1.3  2021-01-01       903   \n",
       "2   37.8685    29.0728       300.5   1.0    1.0  2021-01-01       903   \n",
       "3   37.7362    34.8945       310.3   1.9    1.3  2021-01-01       903   \n",
       "4   37.1456    40.4709       308.9   1.2    1.1  2021-01-01      1041   \n",
       "\n",
       "  satellite instrument  confidence  version  bright_t31   frp daynight  type  \n",
       "0     Terra      MODIS          56     6.03       279.3  20.1        D     0  \n",
       "1     Terra      MODIS          64     6.03       276.7  24.9        D     0  \n",
       "2     Terra      MODIS          38     6.03       286.0   5.0        D     0  \n",
       "3     Terra      MODIS          70     6.03       278.8  28.8        D     0  \n",
       "4      Aqua      MODIS          54     6.03       291.1   9.0        D     0  "
      ]
     },
     "execution_count": 1,
     "metadata": {},
     "output_type": "execute_result"
    }
   ],
   "source": [
    "import pandas as pd\n",
    "import matplotlib.pyplot as plt\n",
    "import seaborn as sns\n",
    "\n",
    "#A continuación se crea la variable que guardará la dirección del dataset. \n",
    "#La misma se encuentra almacenada en Github\n",
    "\n",
    "url_Global_fire = 'https://raw.githubusercontent.com/francolange00/CoderHouse_Data_Science/main/Leo_Satellite_Global%20_Fire-Dataset.csv'\n",
    "\n",
    "#Se crea el dataframe para el dataset:\n",
    "df_Global_fire = pd.read_csv(url_Global_fire, index_col=0).reset_index()\n",
    "\n",
    "df_Global_fire.head(5)"
   ]
  },
  {
   "cell_type": "markdown",
   "id": "825039a2-0f49-4608-822b-c8921ae5693d",
   "metadata": {},
   "source": [
    "A continuación obsevamos si existe valores nulos o duplicados:"
   ]
  },
  {
   "cell_type": "code",
   "execution_count": 2,
   "id": "200533e8-9a0c-47b1-b71f-b1139c0ddcfe",
   "metadata": {
    "tags": []
   },
   "outputs": [
    {
     "data": {
      "text/plain": [
       "latitude      0\n",
       "longitude     0\n",
       "brightness    0\n",
       "scan          0\n",
       "track         0\n",
       "acq_date      0\n",
       "acq_time      0\n",
       "satellite     0\n",
       "instrument    0\n",
       "confidence    0\n",
       "version       0\n",
       "bright_t31    0\n",
       "frp           0\n",
       "daynight      0\n",
       "type          0\n",
       "dtype: int64"
      ]
     },
     "execution_count": 2,
     "metadata": {},
     "output_type": "execute_result"
    }
   ],
   "source": [
    "df_Global_fire.isnull().sum()  #Valores nulos"
   ]
  },
  {
   "cell_type": "code",
   "execution_count": 3,
   "id": "cb2d88e3-2cca-4588-9e6b-5e2005888da2",
   "metadata": {
    "tags": []
   },
   "outputs": [
    {
     "data": {
      "text/plain": [
       "0"
      ]
     },
     "execution_count": 3,
     "metadata": {},
     "output_type": "execute_result"
    }
   ],
   "source": [
    "df_Global_fire.duplicated().sum() #Valores duplicados"
   ]
  },
  {
   "cell_type": "markdown",
   "id": "6859c8d3-b594-4ff7-bb08-0dc871c37186",
   "metadata": {},
   "source": [
    "Se pudo comprobar que el dataset no cuenta con elementos nulos ni duplicados"
   ]
  },
  {
   "cell_type": "markdown",
   "id": "98c4e788-28f6-46fc-8712-b489eac47564",
   "metadata": {
    "tags": []
   },
   "source": [
    "Luego se observó que existian 2 columnas('Version' y 'instrument') que solo contenían 1 valor para todos los registros:"
   ]
  },
  {
   "cell_type": "code",
   "execution_count": 4,
   "id": "5f81ab31-ccac-46ba-b6ed-d2a3d97d6695",
   "metadata": {
    "tags": []
   },
   "outputs": [
    {
     "data": {
      "text/plain": [
       "1"
      ]
     },
     "execution_count": 4,
     "metadata": {},
     "output_type": "execute_result"
    }
   ],
   "source": [
    "df_Global_fire['version'].nunique()\n"
   ]
  },
  {
   "cell_type": "code",
   "execution_count": 5,
   "id": "f7fa3b0c-4be7-4314-b4e2-31f0ca0ef83c",
   "metadata": {
    "tags": []
   },
   "outputs": [
    {
     "data": {
      "text/plain": [
       "1"
      ]
     },
     "execution_count": 5,
     "metadata": {},
     "output_type": "execute_result"
    }
   ],
   "source": [
    "df_Global_fire['instrument'].nunique()"
   ]
  },
  {
   "cell_type": "markdown",
   "id": "dfc2197c-f30c-43b4-9102-3da3b4c95e43",
   "metadata": {},
   "source": [
    "Es por esto que se decidió eliminar estas 2 columnas del dataset:\n"
   ]
  },
  {
   "cell_type": "code",
   "execution_count": 6,
   "id": "d35c5827-c42b-4dd6-8d74-83fb054c8c4e",
   "metadata": {
    "tags": []
   },
   "outputs": [],
   "source": [
    "df_Global_fire = df_Global_fire.drop(['version','instrument'], axis=1)  #Se eliminan las columnas innecesarias"
   ]
  },
  {
   "cell_type": "code",
   "execution_count": 7,
   "id": "73740ced-5a9c-4351-a569-1bdf23418a32",
   "metadata": {
    "tags": []
   },
   "outputs": [
    {
     "data": {
      "text/html": [
       "<div>\n",
       "<style scoped>\n",
       "    .dataframe tbody tr th:only-of-type {\n",
       "        vertical-align: middle;\n",
       "    }\n",
       "\n",
       "    .dataframe tbody tr th {\n",
       "        vertical-align: top;\n",
       "    }\n",
       "\n",
       "    .dataframe thead th {\n",
       "        text-align: right;\n",
       "    }\n",
       "</style>\n",
       "<table border=\"1\" class=\"dataframe\">\n",
       "  <thead>\n",
       "    <tr style=\"text-align: right;\">\n",
       "      <th></th>\n",
       "      <th>latitude</th>\n",
       "      <th>longitude</th>\n",
       "      <th>brightness</th>\n",
       "      <th>scan</th>\n",
       "      <th>track</th>\n",
       "      <th>acq_date</th>\n",
       "      <th>acq_time</th>\n",
       "      <th>satellite</th>\n",
       "      <th>confidence</th>\n",
       "      <th>bright_t31</th>\n",
       "      <th>frp</th>\n",
       "      <th>daynight</th>\n",
       "      <th>type</th>\n",
       "    </tr>\n",
       "  </thead>\n",
       "  <tbody>\n",
       "    <tr>\n",
       "      <th>0</th>\n",
       "      <td>37.7296</td>\n",
       "      <td>34.8998</td>\n",
       "      <td>303.3</td>\n",
       "      <td>1.9</td>\n",
       "      <td>1.3</td>\n",
       "      <td>2021-01-01</td>\n",
       "      <td>903</td>\n",
       "      <td>Terra</td>\n",
       "      <td>56</td>\n",
       "      <td>279.3</td>\n",
       "      <td>20.1</td>\n",
       "      <td>D</td>\n",
       "      <td>0</td>\n",
       "    </tr>\n",
       "    <tr>\n",
       "      <th>1</th>\n",
       "      <td>37.7343</td>\n",
       "      <td>34.8774</td>\n",
       "      <td>306.7</td>\n",
       "      <td>1.9</td>\n",
       "      <td>1.3</td>\n",
       "      <td>2021-01-01</td>\n",
       "      <td>903</td>\n",
       "      <td>Terra</td>\n",
       "      <td>64</td>\n",
       "      <td>276.7</td>\n",
       "      <td>24.9</td>\n",
       "      <td>D</td>\n",
       "      <td>0</td>\n",
       "    </tr>\n",
       "    <tr>\n",
       "      <th>2</th>\n",
       "      <td>37.8685</td>\n",
       "      <td>29.0728</td>\n",
       "      <td>300.5</td>\n",
       "      <td>1.0</td>\n",
       "      <td>1.0</td>\n",
       "      <td>2021-01-01</td>\n",
       "      <td>903</td>\n",
       "      <td>Terra</td>\n",
       "      <td>38</td>\n",
       "      <td>286.0</td>\n",
       "      <td>5.0</td>\n",
       "      <td>D</td>\n",
       "      <td>0</td>\n",
       "    </tr>\n",
       "    <tr>\n",
       "      <th>3</th>\n",
       "      <td>37.7362</td>\n",
       "      <td>34.8945</td>\n",
       "      <td>310.3</td>\n",
       "      <td>1.9</td>\n",
       "      <td>1.3</td>\n",
       "      <td>2021-01-01</td>\n",
       "      <td>903</td>\n",
       "      <td>Terra</td>\n",
       "      <td>70</td>\n",
       "      <td>278.8</td>\n",
       "      <td>28.8</td>\n",
       "      <td>D</td>\n",
       "      <td>0</td>\n",
       "    </tr>\n",
       "    <tr>\n",
       "      <th>4</th>\n",
       "      <td>37.1456</td>\n",
       "      <td>40.4709</td>\n",
       "      <td>308.9</td>\n",
       "      <td>1.2</td>\n",
       "      <td>1.1</td>\n",
       "      <td>2021-01-01</td>\n",
       "      <td>1041</td>\n",
       "      <td>Aqua</td>\n",
       "      <td>54</td>\n",
       "      <td>291.1</td>\n",
       "      <td>9.0</td>\n",
       "      <td>D</td>\n",
       "      <td>0</td>\n",
       "    </tr>\n",
       "  </tbody>\n",
       "</table>\n",
       "</div>"
      ],
      "text/plain": [
       "   latitude  longitude  brightness  scan  track    acq_date  acq_time  \\\n",
       "0   37.7296    34.8998       303.3   1.9    1.3  2021-01-01       903   \n",
       "1   37.7343    34.8774       306.7   1.9    1.3  2021-01-01       903   \n",
       "2   37.8685    29.0728       300.5   1.0    1.0  2021-01-01       903   \n",
       "3   37.7362    34.8945       310.3   1.9    1.3  2021-01-01       903   \n",
       "4   37.1456    40.4709       308.9   1.2    1.1  2021-01-01      1041   \n",
       "\n",
       "  satellite  confidence  bright_t31   frp daynight  type  \n",
       "0     Terra          56       279.3  20.1        D     0  \n",
       "1     Terra          64       276.7  24.9        D     0  \n",
       "2     Terra          38       286.0   5.0        D     0  \n",
       "3     Terra          70       278.8  28.8        D     0  \n",
       "4      Aqua          54       291.1   9.0        D     0  "
      ]
     },
     "execution_count": 7,
     "metadata": {},
     "output_type": "execute_result"
    }
   ],
   "source": [
    "df_Global_fire.head()"
   ]
  },
  {
   "cell_type": "markdown",
   "id": "c81b5d67-0214-4d3f-b3c3-f70b809be898",
   "metadata": {
    "tags": []
   },
   "source": [
    "Por último, tanto la columna \"brigthness\" com la columna \"bright_t31\" están en unidades de grados kelvin, por lo que se decide llevarlas a grados celsius para facilitar su comprensión:"
   ]
  },
  {
   "cell_type": "code",
   "execution_count": 8,
   "id": "01a2cbbc-3484-4c7a-9853-e6ab27daa819",
   "metadata": {
    "tags": []
   },
   "outputs": [],
   "source": [
    "def kelvin_to_celsius(temp):\n",
    "    return temp-273.15\n",
    "\n",
    "\n",
    "df_Global_fire['brightness'] = df_Global_fire['brightness'].apply(kelvin_to_celsius)\n",
    "df_Global_fire['bright_t31'] = df_Global_fire['bright_t31'].apply(kelvin_to_celsius)"
   ]
  },
  {
   "cell_type": "code",
   "execution_count": 9,
   "id": "4276571c-c8ae-49f4-8119-aee88e231b3d",
   "metadata": {
    "tags": []
   },
   "outputs": [
    {
     "data": {
      "text/html": [
       "<div>\n",
       "<style scoped>\n",
       "    .dataframe tbody tr th:only-of-type {\n",
       "        vertical-align: middle;\n",
       "    }\n",
       "\n",
       "    .dataframe tbody tr th {\n",
       "        vertical-align: top;\n",
       "    }\n",
       "\n",
       "    .dataframe thead th {\n",
       "        text-align: right;\n",
       "    }\n",
       "</style>\n",
       "<table border=\"1\" class=\"dataframe\">\n",
       "  <thead>\n",
       "    <tr style=\"text-align: right;\">\n",
       "      <th></th>\n",
       "      <th>latitude</th>\n",
       "      <th>longitude</th>\n",
       "      <th>brightness</th>\n",
       "      <th>scan</th>\n",
       "      <th>track</th>\n",
       "      <th>acq_date</th>\n",
       "      <th>acq_time</th>\n",
       "      <th>satellite</th>\n",
       "      <th>confidence</th>\n",
       "      <th>bright_t31</th>\n",
       "      <th>frp</th>\n",
       "      <th>daynight</th>\n",
       "      <th>type</th>\n",
       "    </tr>\n",
       "  </thead>\n",
       "  <tbody>\n",
       "    <tr>\n",
       "      <th>0</th>\n",
       "      <td>37.7296</td>\n",
       "      <td>34.8998</td>\n",
       "      <td>30.15</td>\n",
       "      <td>1.9</td>\n",
       "      <td>1.3</td>\n",
       "      <td>2021-01-01</td>\n",
       "      <td>903</td>\n",
       "      <td>Terra</td>\n",
       "      <td>56</td>\n",
       "      <td>6.15</td>\n",
       "      <td>20.1</td>\n",
       "      <td>D</td>\n",
       "      <td>0</td>\n",
       "    </tr>\n",
       "    <tr>\n",
       "      <th>1</th>\n",
       "      <td>37.7343</td>\n",
       "      <td>34.8774</td>\n",
       "      <td>33.55</td>\n",
       "      <td>1.9</td>\n",
       "      <td>1.3</td>\n",
       "      <td>2021-01-01</td>\n",
       "      <td>903</td>\n",
       "      <td>Terra</td>\n",
       "      <td>64</td>\n",
       "      <td>3.55</td>\n",
       "      <td>24.9</td>\n",
       "      <td>D</td>\n",
       "      <td>0</td>\n",
       "    </tr>\n",
       "    <tr>\n",
       "      <th>2</th>\n",
       "      <td>37.8685</td>\n",
       "      <td>29.0728</td>\n",
       "      <td>27.35</td>\n",
       "      <td>1.0</td>\n",
       "      <td>1.0</td>\n",
       "      <td>2021-01-01</td>\n",
       "      <td>903</td>\n",
       "      <td>Terra</td>\n",
       "      <td>38</td>\n",
       "      <td>12.85</td>\n",
       "      <td>5.0</td>\n",
       "      <td>D</td>\n",
       "      <td>0</td>\n",
       "    </tr>\n",
       "    <tr>\n",
       "      <th>3</th>\n",
       "      <td>37.7362</td>\n",
       "      <td>34.8945</td>\n",
       "      <td>37.15</td>\n",
       "      <td>1.9</td>\n",
       "      <td>1.3</td>\n",
       "      <td>2021-01-01</td>\n",
       "      <td>903</td>\n",
       "      <td>Terra</td>\n",
       "      <td>70</td>\n",
       "      <td>5.65</td>\n",
       "      <td>28.8</td>\n",
       "      <td>D</td>\n",
       "      <td>0</td>\n",
       "    </tr>\n",
       "    <tr>\n",
       "      <th>4</th>\n",
       "      <td>37.1456</td>\n",
       "      <td>40.4709</td>\n",
       "      <td>35.75</td>\n",
       "      <td>1.2</td>\n",
       "      <td>1.1</td>\n",
       "      <td>2021-01-01</td>\n",
       "      <td>1041</td>\n",
       "      <td>Aqua</td>\n",
       "      <td>54</td>\n",
       "      <td>17.95</td>\n",
       "      <td>9.0</td>\n",
       "      <td>D</td>\n",
       "      <td>0</td>\n",
       "    </tr>\n",
       "  </tbody>\n",
       "</table>\n",
       "</div>"
      ],
      "text/plain": [
       "   latitude  longitude  brightness  scan  track    acq_date  acq_time  \\\n",
       "0   37.7296    34.8998       30.15   1.9    1.3  2021-01-01       903   \n",
       "1   37.7343    34.8774       33.55   1.9    1.3  2021-01-01       903   \n",
       "2   37.8685    29.0728       27.35   1.0    1.0  2021-01-01       903   \n",
       "3   37.7362    34.8945       37.15   1.9    1.3  2021-01-01       903   \n",
       "4   37.1456    40.4709       35.75   1.2    1.1  2021-01-01      1041   \n",
       "\n",
       "  satellite  confidence  bright_t31   frp daynight  type  \n",
       "0     Terra          56        6.15  20.1        D     0  \n",
       "1     Terra          64        3.55  24.9        D     0  \n",
       "2     Terra          38       12.85   5.0        D     0  \n",
       "3     Terra          70        5.65  28.8        D     0  \n",
       "4      Aqua          54       17.95   9.0        D     0  "
      ]
     },
     "execution_count": 9,
     "metadata": {},
     "output_type": "execute_result"
    }
   ],
   "source": [
    "df_Global_fire.head()"
   ]
  },
  {
   "cell_type": "code",
   "execution_count": null,
   "id": "1b814e7d-00ab-49e7-8a0b-078d321a7bd3",
   "metadata": {},
   "outputs": [],
   "source": []
  }
 ],
 "metadata": {
  "kernelspec": {
   "display_name": "Python 3 (ipykernel)",
   "language": "python",
   "name": "python3"
  },
  "language_info": {
   "codemirror_mode": {
    "name": "ipython",
    "version": 3
   },
   "file_extension": ".py",
   "mimetype": "text/x-python",
   "name": "python",
   "nbconvert_exporter": "python",
   "pygments_lexer": "ipython3",
   "version": "3.11.4"
  }
 },
 "nbformat": 4,
 "nbformat_minor": 5
}
