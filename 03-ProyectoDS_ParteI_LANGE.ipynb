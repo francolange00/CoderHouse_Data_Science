{
 "cells": [
  {
   "cell_type": "code",
   "execution_count": 56,
   "id": "cc2fef75-ee4a-4533-b2e2-7ccdb485b60d",
   "metadata": {
    "tags": []
   },
   "outputs": [
    {
     "data": {
      "text/markdown": [
       "**Abstract:**\n",
       "\n",
       "Este estudio se basa en un conjunto de datos que proporciona información detallada sobre la detección de incendios forestales en la región de turquía, utilizando satélites que emplean instrumentos VIIRS(Sistemas de imágenes e información de radiación visible e infrarroja, por sus siglas en inlgés). Los datos incluyen la latitud y longitud de los incendios, la temperatura de brillo de los píxeles que representan el fuego, la fecha y hora de adquisición, el satélite utilizado, la confianza en la detección, la potencia radiativa de los incendios y el tipo de incendio, entre otros.\n",
       "\n",
       "A partir de estos datos, se formulan diversas preguntas e hipótesis relacionadas con la distribución geográfica de los incendios y la influencia de factores temporales en la detección, la relación entre la temperatura de brillo y la potencia radiativa de los incendios, y la prevalencia de diferentes tipos de incendios en diversas regiones geográficas.\n",
       "\n",
       "El análisis de estos datos puede proporcionar información valiosa para comprender mejor la dinámica de los incendios forestales e identificar patrones estacionales y geográficos. Los resultados de este estudio tienen el potencial de contribuir a la gestión y prevención de incendios forestales, así como a la comprensión de su impacto en el medio ambiente y la sociedad.\n",
       "\n",
       "A continuación se plantean algunas hipótesis y preguntas en función del dataset bajo estudio:\n",
       "\n",
       "**1-** ¿Existe una correlación entre la latitud y la frecuencia de incendios forestales?\n",
       "\n",
       "**2-** ¿Las regiones cercanas al ecuador (bajas latitudes) experimentan más incendios forestales que las regiones cercanas a los polos (altas latitudes)?\n",
       "\n",
       "**3-** ¿Cuál es la relación entre la hora de adquisición (Acq_Time) y la confianza (Confidence) de la detección de incendios?\n",
       "\n",
       "**4-** ¿La cantidad de incendios es constante estacionalmente, o se tienen ciertas difernecias en función de la estaciones del año?\n",
       "\n",
       "\n",
       "A continuación se muestran los primeros valores del dataset elegido para estar más contextualizados con los datos:\n",
       "\n"
      ],
      "text/plain": [
       "<IPython.core.display.Markdown object>"
      ]
     },
     "metadata": {},
     "output_type": "display_data"
    }
   ],
   "source": [
    "from IPython.display import Markdown, display\n",
    "abstract_text = \"\"\"**Abstract:**\n",
    "\n",
    "Este estudio se basa en un conjunto de datos que proporciona información detallada sobre la detección de incendios forestales en la región de turquía, utilizando satélites que emplean instrumentos VIIRS(Sistemas de imágenes e información de radiación visible e infrarroja, por sus siglas en inlgés). Los datos incluyen la latitud y longitud de los incendios, la temperatura de brillo de los píxeles que representan el fuego, la fecha y hora de adquisición, el satélite utilizado, la confianza en la detección, la potencia radiativa de los incendios y el tipo de incendio, entre otros.\n",
    "\n",
    "A partir de estos datos, se formulan diversas preguntas e hipótesis relacionadas con la distribución geográfica de los incendios y la influencia de factores temporales en la detección, la relación entre la temperatura de brillo y la potencia radiativa de los incendios, y la prevalencia de diferentes tipos de incendios en diversas regiones geográficas.\n",
    "\n",
    "El análisis de estos datos puede proporcionar información valiosa para comprender mejor la dinámica de los incendios forestales e identificar patrones estacionales y geográficos. Los resultados de este estudio tienen el potencial de contribuir a la gestión y prevención de incendios forestales, así como a la comprensión de su impacto en el medio ambiente y la sociedad.\n",
    "\n",
    "A continuación se plantean algunas hipótesis y preguntas en función del dataset bajo estudio:\n",
    "\n",
    "**1-** ¿Existe una correlación entre la latitud y la frecuencia de incendios forestales?\n",
    "\n",
    "**2-** ¿Las regiones cercanas al ecuador (bajas latitudes) experimentan más incendios forestales que las regiones cercanas a los polos (altas latitudes)?\n",
    "\n",
    "**3-** ¿Cuál es la relación entre la hora de adquisición (Acq_Time) y la confianza (Confidence) de la detección de incendios?\n",
    "\n",
    "**4-** ¿La cantidad de incendios es constante estacionalmente, o se tienen ciertas difernecias en función de la estaciones del año?\n",
    "\n",
    "\n",
    "A continuación se muestran los primeros valores del dataset elegido para estar más contextualizados con los datos:\n",
    "\n",
    "\"\"\"\n",
    "\n",
    "display(Markdown(abstract_text))"
   ]
  },
  {
   "cell_type": "code",
   "execution_count": 27,
   "id": "e10b0aea-1534-477c-a959-4863b4af8e11",
   "metadata": {},
   "outputs": [
    {
     "data": {
      "text/html": [
       "<div>\n",
       "<style scoped>\n",
       "    .dataframe tbody tr th:only-of-type {\n",
       "        vertical-align: middle;\n",
       "    }\n",
       "\n",
       "    .dataframe tbody tr th {\n",
       "        vertical-align: top;\n",
       "    }\n",
       "\n",
       "    .dataframe thead th {\n",
       "        text-align: right;\n",
       "    }\n",
       "</style>\n",
       "<table border=\"1\" class=\"dataframe\">\n",
       "  <thead>\n",
       "    <tr style=\"text-align: right;\">\n",
       "      <th></th>\n",
       "      <th>latitude</th>\n",
       "      <th>longitude</th>\n",
       "      <th>brightness</th>\n",
       "      <th>scan</th>\n",
       "      <th>track</th>\n",
       "      <th>acq_date</th>\n",
       "      <th>acq_time</th>\n",
       "      <th>satellite</th>\n",
       "      <th>instrument</th>\n",
       "      <th>confidence</th>\n",
       "      <th>version</th>\n",
       "      <th>bright_t31</th>\n",
       "      <th>frp</th>\n",
       "      <th>daynight</th>\n",
       "      <th>type</th>\n",
       "    </tr>\n",
       "  </thead>\n",
       "  <tbody>\n",
       "    <tr>\n",
       "      <th>0</th>\n",
       "      <td>37.7296</td>\n",
       "      <td>34.8998</td>\n",
       "      <td>303.3</td>\n",
       "      <td>1.9</td>\n",
       "      <td>1.3</td>\n",
       "      <td>2021-01-01</td>\n",
       "      <td>903</td>\n",
       "      <td>Terra</td>\n",
       "      <td>MODIS</td>\n",
       "      <td>56</td>\n",
       "      <td>6.03</td>\n",
       "      <td>279.3</td>\n",
       "      <td>20.1</td>\n",
       "      <td>D</td>\n",
       "      <td>0</td>\n",
       "    </tr>\n",
       "    <tr>\n",
       "      <th>1</th>\n",
       "      <td>37.7343</td>\n",
       "      <td>34.8774</td>\n",
       "      <td>306.7</td>\n",
       "      <td>1.9</td>\n",
       "      <td>1.3</td>\n",
       "      <td>2021-01-01</td>\n",
       "      <td>903</td>\n",
       "      <td>Terra</td>\n",
       "      <td>MODIS</td>\n",
       "      <td>64</td>\n",
       "      <td>6.03</td>\n",
       "      <td>276.7</td>\n",
       "      <td>24.9</td>\n",
       "      <td>D</td>\n",
       "      <td>0</td>\n",
       "    </tr>\n",
       "    <tr>\n",
       "      <th>2</th>\n",
       "      <td>37.8685</td>\n",
       "      <td>29.0728</td>\n",
       "      <td>300.5</td>\n",
       "      <td>1.0</td>\n",
       "      <td>1.0</td>\n",
       "      <td>2021-01-01</td>\n",
       "      <td>903</td>\n",
       "      <td>Terra</td>\n",
       "      <td>MODIS</td>\n",
       "      <td>38</td>\n",
       "      <td>6.03</td>\n",
       "      <td>286.0</td>\n",
       "      <td>5.0</td>\n",
       "      <td>D</td>\n",
       "      <td>0</td>\n",
       "    </tr>\n",
       "    <tr>\n",
       "      <th>3</th>\n",
       "      <td>37.7362</td>\n",
       "      <td>34.8945</td>\n",
       "      <td>310.3</td>\n",
       "      <td>1.9</td>\n",
       "      <td>1.3</td>\n",
       "      <td>2021-01-01</td>\n",
       "      <td>903</td>\n",
       "      <td>Terra</td>\n",
       "      <td>MODIS</td>\n",
       "      <td>70</td>\n",
       "      <td>6.03</td>\n",
       "      <td>278.8</td>\n",
       "      <td>28.8</td>\n",
       "      <td>D</td>\n",
       "      <td>0</td>\n",
       "    </tr>\n",
       "    <tr>\n",
       "      <th>4</th>\n",
       "      <td>37.1456</td>\n",
       "      <td>40.4709</td>\n",
       "      <td>308.9</td>\n",
       "      <td>1.2</td>\n",
       "      <td>1.1</td>\n",
       "      <td>2021-01-01</td>\n",
       "      <td>1041</td>\n",
       "      <td>Aqua</td>\n",
       "      <td>MODIS</td>\n",
       "      <td>54</td>\n",
       "      <td>6.03</td>\n",
       "      <td>291.1</td>\n",
       "      <td>9.0</td>\n",
       "      <td>D</td>\n",
       "      <td>0</td>\n",
       "    </tr>\n",
       "    <tr>\n",
       "      <th>5</th>\n",
       "      <td>37.1231</td>\n",
       "      <td>42.4012</td>\n",
       "      <td>309.4</td>\n",
       "      <td>1.5</td>\n",
       "      <td>1.2</td>\n",
       "      <td>2021-01-01</td>\n",
       "      <td>1041</td>\n",
       "      <td>Aqua</td>\n",
       "      <td>MODIS</td>\n",
       "      <td>68</td>\n",
       "      <td>6.03</td>\n",
       "      <td>294.9</td>\n",
       "      <td>13.7</td>\n",
       "      <td>D</td>\n",
       "      <td>0</td>\n",
       "    </tr>\n",
       "    <tr>\n",
       "      <th>6</th>\n",
       "      <td>36.9835</td>\n",
       "      <td>40.1958</td>\n",
       "      <td>324.6</td>\n",
       "      <td>1.2</td>\n",
       "      <td>1.1</td>\n",
       "      <td>2021-01-01</td>\n",
       "      <td>1041</td>\n",
       "      <td>Aqua</td>\n",
       "      <td>MODIS</td>\n",
       "      <td>83</td>\n",
       "      <td>6.03</td>\n",
       "      <td>291.7</td>\n",
       "      <td>27.3</td>\n",
       "      <td>D</td>\n",
       "      <td>0</td>\n",
       "    </tr>\n",
       "    <tr>\n",
       "      <th>7</th>\n",
       "      <td>37.0970</td>\n",
       "      <td>40.6650</td>\n",
       "      <td>309.8</td>\n",
       "      <td>1.2</td>\n",
       "      <td>1.1</td>\n",
       "      <td>2021-01-01</td>\n",
       "      <td>1041</td>\n",
       "      <td>Aqua</td>\n",
       "      <td>MODIS</td>\n",
       "      <td>69</td>\n",
       "      <td>6.03</td>\n",
       "      <td>293.9</td>\n",
       "      <td>9.3</td>\n",
       "      <td>D</td>\n",
       "      <td>0</td>\n",
       "    </tr>\n",
       "    <tr>\n",
       "      <th>8</th>\n",
       "      <td>37.1549</td>\n",
       "      <td>40.2119</td>\n",
       "      <td>322.2</td>\n",
       "      <td>1.2</td>\n",
       "      <td>1.1</td>\n",
       "      <td>2021-01-01</td>\n",
       "      <td>1041</td>\n",
       "      <td>Aqua</td>\n",
       "      <td>MODIS</td>\n",
       "      <td>82</td>\n",
       "      <td>6.03</td>\n",
       "      <td>293.3</td>\n",
       "      <td>22.2</td>\n",
       "      <td>D</td>\n",
       "      <td>0</td>\n",
       "    </tr>\n",
       "    <tr>\n",
       "      <th>9</th>\n",
       "      <td>37.0423</td>\n",
       "      <td>40.5362</td>\n",
       "      <td>306.9</td>\n",
       "      <td>1.2</td>\n",
       "      <td>1.1</td>\n",
       "      <td>2021-01-01</td>\n",
       "      <td>1041</td>\n",
       "      <td>Aqua</td>\n",
       "      <td>MODIS</td>\n",
       "      <td>61</td>\n",
       "      <td>6.03</td>\n",
       "      <td>290.9</td>\n",
       "      <td>7.7</td>\n",
       "      <td>D</td>\n",
       "      <td>0</td>\n",
       "    </tr>\n",
       "  </tbody>\n",
       "</table>\n",
       "</div>"
      ],
      "text/plain": [
       "   latitude  longitude  brightness  scan  track    acq_date  acq_time  \\\n",
       "0   37.7296    34.8998       303.3   1.9    1.3  2021-01-01       903   \n",
       "1   37.7343    34.8774       306.7   1.9    1.3  2021-01-01       903   \n",
       "2   37.8685    29.0728       300.5   1.0    1.0  2021-01-01       903   \n",
       "3   37.7362    34.8945       310.3   1.9    1.3  2021-01-01       903   \n",
       "4   37.1456    40.4709       308.9   1.2    1.1  2021-01-01      1041   \n",
       "5   37.1231    42.4012       309.4   1.5    1.2  2021-01-01      1041   \n",
       "6   36.9835    40.1958       324.6   1.2    1.1  2021-01-01      1041   \n",
       "7   37.0970    40.6650       309.8   1.2    1.1  2021-01-01      1041   \n",
       "8   37.1549    40.2119       322.2   1.2    1.1  2021-01-01      1041   \n",
       "9   37.0423    40.5362       306.9   1.2    1.1  2021-01-01      1041   \n",
       "\n",
       "  satellite instrument  confidence  version  bright_t31   frp daynight  type  \n",
       "0     Terra      MODIS          56     6.03       279.3  20.1        D     0  \n",
       "1     Terra      MODIS          64     6.03       276.7  24.9        D     0  \n",
       "2     Terra      MODIS          38     6.03       286.0   5.0        D     0  \n",
       "3     Terra      MODIS          70     6.03       278.8  28.8        D     0  \n",
       "4      Aqua      MODIS          54     6.03       291.1   9.0        D     0  \n",
       "5      Aqua      MODIS          68     6.03       294.9  13.7        D     0  \n",
       "6      Aqua      MODIS          83     6.03       291.7  27.3        D     0  \n",
       "7      Aqua      MODIS          69     6.03       293.9   9.3        D     0  \n",
       "8      Aqua      MODIS          82     6.03       293.3  22.2        D     0  \n",
       "9      Aqua      MODIS          61     6.03       290.9   7.7        D     0  "
      ]
     },
     "execution_count": 27,
     "metadata": {},
     "output_type": "execute_result"
    }
   ],
   "source": [
    "import pandas as pd\n",
    "import matplotlib.pyplot as plt\n",
    "import seaborn as sns\n",
    "\n",
    "\n",
    "#A continuación se crea la variable que guardará la dirección del dataset. \n",
    "#La misma se encuentra almacenada en Github\n",
    "\n",
    "url_Global_fire = 'https://raw.githubusercontent.com/francolange00/CoderHouse_Data_Science/main/Leo_Satellite_Global%20_Fire-Dataset.csv'\n",
    "\n",
    "#Se crea el dataframe para el dataset:\n",
    "df_Global_fire = pd.read_csv(url_Global_fire, index_col=0).reset_index()\n",
    "\n",
    "df_Global_fire.head(10)"
   ]
  },
  {
   "cell_type": "code",
   "execution_count": 57,
   "id": "dcf20b61-00da-42ff-887b-c9078fb571a1",
   "metadata": {
    "tags": []
   },
   "outputs": [
    {
     "data": {
      "text/markdown": [
       "Respondiendo a la primer pregunta planteada al inicio: ***¿Existe una correlación entre la latitud y la frecuencia de incendios forestales?***\n",
       "\n",
       "Para esto, lo que se planeta es un gráfico de tipo \"boxplot\" en el que se verá de forma clara cual es la distribución de los incendios en función de su latitud de ocurrencia\n"
      ],
      "text/plain": [
       "<IPython.core.display.Markdown object>"
      ]
     },
     "metadata": {},
     "output_type": "display_data"
    }
   ],
   "source": [
    "Pregunta_1 = \"\"\"Respondiendo a la primer pregunta planteada al inicio: ***¿Existe una correlación entre la latitud y la frecuencia de incendios forestales?***\n",
    "\n",
    "Para esto, lo que se planeta es un gráfico de tipo \"boxplot\" en el que se verá de forma clara cual es la distribución de los incendios en función de su latitud de ocurrencia\n",
    "\"\"\"\n",
    "\n",
    "display(Markdown(Pregunta_1))"
   ]
  },
  {
   "cell_type": "code",
   "execution_count": 40,
   "id": "87116520-9ff7-44a1-ad8c-3ce8934f04e8",
   "metadata": {
    "tags": []
   },
   "outputs": [
    {
     "data": {
      "image/png": "[encoded data removed]",
      "text/plain": [
       "<Figure size 1500x500 with 1 Axes>"
      ]
     },
     "metadata": {},
     "output_type": "display_data"
    }
   ],
   "source": [
    "plt.figure(figsize=(15, 5))\n",
    "sns.boxplot(x=df_Global_fire['latitude'])\n",
    "plt.title('Distribución de incendios respecto a su latitud de ocurrencia')\n",
    "plt.show()"
   ]
  },
  {
   "cell_type": "code",
   "execution_count": 33,
   "id": "aa1f28f4-1168-4b99-9109-57fb454190f3",
   "metadata": {
    "tags": []
   },
   "outputs": [
    {
     "data": {
      "text/markdown": [
       "Se puede observar que contamos con muchos valores \"outliers\" pero que la mayor cantidad de incendios los podemos encontrar entre la latitud 37 y 38 aproximadamente."
      ],
      "text/plain": [
       "<IPython.core.display.Markdown object>"
      ]
     },
     "metadata": {},
     "output_type": "display_data"
    }
   ],
   "source": [
    "Respuesta_1 = \"\"\"Se puede observar que contamos con muchos valores \"outliers\" pero que la mayor cantidad de incendios los podemos encontrar entre la latitud 37 y 38 aproximadamente.\"\"\"\n",
    "\n",
    "display(Markdown(Respuesta_1))"
   ]
  },
  {
   "cell_type": "code",
   "execution_count": 39,
   "id": "a43e9029-5081-4051-89cf-999be51e8443",
   "metadata": {
    "tags": []
   },
   "outputs": [
    {
     "data": {
      "text/markdown": [
       "Respondiendo a la segunda pregunta planteada: ***¿Las regiones cercanas al ecuador (bajas latitudes) experimentan más incendios forestales que las regiones cercanas a los polos (altas latitudes)?***\n",
       "\n",
       "En este caso basta con obtener el valor exacto de la mediana y observar la figura enterior para darnos cuenta que efectivamente mientras más nos acercamos al ecuador es más probable que tengamos mayor número de incendios\n"
      ],
      "text/plain": [
       "<IPython.core.display.Markdown object>"
      ]
     },
     "metadata": {},
     "output_type": "display_data"
    }
   ],
   "source": [
    "Pregunta_2 = \"\"\"Respondiendo a la segunda pregunta planteada: ***¿Las regiones cercanas al ecuador (bajas latitudes) experimentan más incendios forestales que las regiones cercanas a los polos (altas latitudes)?***\n",
    "\n",
    "En este caso basta con obtener el valor exacto de la mediana y observar la figura enterior para darnos cuenta que efectivamente mientras más nos acercamos al ecuador es más probable que tengamos mayor número de incendios\n",
    "\"\"\"\n",
    "\n",
    "display(Markdown(Pregunta_2))"
   ]
  },
  {
   "cell_type": "code",
   "execution_count": 36,
   "id": "d832f48c-26ce-4678-b429-21bde842d856",
   "metadata": {
    "tags": []
   },
   "outputs": [
    {
     "name": "stdout",
     "output_type": "stream",
     "text": [
      "La mediana de la latitud de los incendios se encuentra en:  37.17\n"
     ]
    }
   ],
   "source": [
    "mediana_latitud = round(df_Global_fire['latitude'].median(),2)\n",
    "\n",
    "print(\"La mediana de la latitud de los incendios se encuentra en: \", mediana_latitud)"
   ]
  },
  {
   "cell_type": "code",
   "execution_count": 47,
   "id": "47208a54-8f4b-48b6-8088-6eb705f1002e",
   "metadata": {
    "tags": []
   },
   "outputs": [
    {
     "data": {
      "text/markdown": [
       "Respondiendo a la tercer pregunta planteada: ***¿Cuál es la relación entre la hora de adquisición (Acq_Time) y la confianza (Confidence) de la detección de incendios?***\n",
       "\n",
       "Para responder a esta pregunta lo que se hizo es diferenciar entre los datos obtenidos de día con los recolectados de noche. Para esto se volvió a utilizar un gráfico de boxplot en donde se compara el nivel de confianza de los datos obtenidos dependendiendo si se contaba o no con la luz del sol. El nivel de confianza se encuentra entre 0-100, donde un \"0\" representa un dato totalmente irrelevante y un \"100\" un dato irrefutable \n"
      ],
      "text/plain": [
       "<IPython.core.display.Markdown object>"
      ]
     },
     "metadata": {},
     "output_type": "display_data"
    }
   ],
   "source": [
    "Pregunta_3 = \"\"\"Respondiendo a la tercer pregunta planteada: ***¿Cuál es la relación entre la hora de adquisición (Acq_Time) y la confianza (Confidence) de la detección de incendios?***\n",
    "\n",
    "Para responder a esta pregunta lo que se hizo es diferenciar entre los datos obtenidos de día con los recolectados de noche. Para esto se volvió a utilizar un gráfico de boxplot en donde se compara el nivel de confianza de los datos obtenidos dependendiendo si se contaba o no con la luz del sol. El nivel de confianza se encuentra entre 0-100, donde un \"0\" representa un dato totalmente irrelevante y un \"100\" un dato irrefutable. \n",
    "\"\"\"\n",
    "\n",
    "display(Markdown(Pregunta_3))"
   ]
  },
  {
   "cell_type": "code",
   "execution_count": 46,
   "id": "7c7461f0-297c-4ae9-882d-7acc1a5a18d6",
   "metadata": {
    "tags": []
   },
   "outputs": [
    {
     "data": {
      "image/png": "[encoded data removed]",
      "text/plain": [
       "<Figure size 640x480 with 1 Axes>"
      ]
     },
     "metadata": {},
     "output_type": "display_data"
    }
   ],
   "source": [
    "sns.boxplot(x='daynight', y='confidence', data=df_Global_fire)\n",
    "\n",
    "# Personaliza el título\n",
    "plt.title('Nivel de confianza en función del día/noche')\n",
    "plt.xlabel('Día-Noche')\n",
    "plt.ylabel('Confianza')\n",
    "# Muestra el gráfico\n",
    "plt.show()"
   ]
  },
  {
   "cell_type": "code",
   "execution_count": 48,
   "id": "31266997-356e-415d-8e4c-ac2313b22791",
   "metadata": {
    "tags": []
   },
   "outputs": [
    {
     "data": {
      "text/markdown": [
       "Como puede observarse, los datos obtenidos de noche son mucho más confiables de los obtenidos de día. Esto debido a la naturaleza del funcionamiento de los intrumentos utilizados en el satélite para la recolección de los datos. La luz del sol puede influenciar negativamente en los resultados obtenidos haciendo parecer ciertos focos de incendios más intensos y grandes de lo que realmente son. "
      ],
      "text/plain": [
       "<IPython.core.display.Markdown object>"
      ]
     },
     "metadata": {},
     "output_type": "display_data"
    }
   ],
   "source": [
    "Respuesta_3 = \"\"\"Como puede observarse, los datos obtenidos de noche son mucho más confiables de los obtenidos de día. Esto debido a la naturaleza del funcionamiento de los intrumentos utilizados en el satélite para la recolección de los datos. La luz del sol puede influenciar negativamente en los resultados obtenidos haciendo parecer ciertos focos de incendios más intensos y grandes de lo que realmente son. \"\"\"\n",
    "\n",
    "display(Markdown(Respuesta_3))"
   ]
  },
  {
   "cell_type": "code",
   "execution_count": 53,
   "id": "ec0c3586-946a-462e-8dca-29221affa7b4",
   "metadata": {
    "tags": []
   },
   "outputs": [
    {
     "data": {
      "text/markdown": [
       "Respondiendo a la última pregunta planteada al inicio: ***¿La cantidad de incendios es constante estacionalmente, o se tienen ciertas difernecias en función de la estaciones del año?***\n",
       "\n",
       "En este caso podemos reutilizar una gráfica obtenida en la entrega anterior en donde se muestra la sumatoria de incendios mes a mes a lo largo de todo un año:\n"
      ],
      "text/plain": [
       "<IPython.core.display.Markdown object>"
      ]
     },
     "metadata": {},
     "output_type": "display_data"
    }
   ],
   "source": [
    "Pregunta_4 = \"\"\"Respondiendo a la última pregunta planteada al inicio: ***¿La cantidad de incendios es constante estacionalmente, o se tienen ciertas difernecias en función de la estaciones del año?***\n",
    "\n",
    "En este caso podemos reutilizar una gráfica obtenida en la entrega anterior en donde se muestra la sumatoria de incendios mes a mes a lo largo de todo un año:\n",
    "\"\"\"\n",
    "\n",
    "display(Markdown(Pregunta_4))"
   ]
  },
  {
   "cell_type": "code",
   "execution_count": 54,
   "id": "913227d6-49d4-442e-a367-81496a88456d",
   "metadata": {
    "tags": []
   },
   "outputs": [
    {
     "data": {
      "image/png": "[encoded data removed]",
      "text/plain": [
       "<Figure size 1200x600 with 1 Axes>"
      ]
     },
     "metadata": {},
     "output_type": "display_data"
    }
   ],
   "source": [
    "import calendar\n",
    "\n",
    "df_Global_fire['acq_date'] = pd.to_datetime(df_Global_fire['acq_date'])\n",
    "\n",
    "df_Global_fire['month'] = df_Global_fire['acq_date'].dt.month\n",
    "df_Global_fire['year'] = df_Global_fire['acq_date'].dt.year\n",
    "\n",
    "#Se agrupa y cuentan los incendios por año y mes\n",
    "Fires_sum = df_Global_fire.groupby(['year', 'month']).size().reset_index(name='count')\n",
    "\n",
    "#Se mapea los números de mes a nombres de mes\n",
    "Fires_sum['month'] = Fires_sum['month'].apply(lambda x: calendar.month_abbr[x])\n",
    "\n",
    "#Se Crea una gráfica de barras\n",
    "plt.figure(figsize=(12, 6))\n",
    "plt.bar(Fires_sum['year'].astype(str) + '-' + Fires_sum['month'], Fires_sum['count'], color='r')\n",
    "plt.ylabel('Suma total')\n",
    "plt.title('Numero de incendios en 2021 (Turkey)')\n",
    "plt.xticks(rotation=45)\n",
    "\n",
    "# Se muestra la gráfica\n",
    "plt.tight_layout()\n",
    "plt.show()"
   ]
  },
  {
   "cell_type": "code",
   "execution_count": 55,
   "id": "7e373a11-d2ec-477c-a8cd-eecb7d371ee5",
   "metadata": {
    "tags": []
   },
   "outputs": [
    {
     "data": {
      "text/markdown": [
       "Como era de esperarse, tenemos un gran incremento en el número de incedios en la estación de verano principalmente. Por lo que se responde a la pregunta de que dichos incendios no son constantes a lo largo del año y por lo tanto a hay que poner foco entre los meses de junio y agosto que es en donde más casos de incendios se registran "
      ],
      "text/plain": [
       "<IPython.core.display.Markdown object>"
      ]
     },
     "metadata": {},
     "output_type": "display_data"
    }
   ],
   "source": [
    "Respuesta_4 = \"\"\"Como era de esperarse, tenemos un gran incremento en el número de incedios en la estación de verano principalmente. Por lo que se responde a la pregunta de que dichos incendios no son constantes a lo largo del año y por lo tanto a hay que poner foco entre los meses de junio y agosto que es en donde más casos de incendios se registran. \"\"\"\n",
    "\n",
    "display(Markdown(Respuesta_4))"
   ]
  },
  {
   "cell_type": "code",
   "execution_count": null,
   "id": "63cdf548-798a-43d4-bcbb-878c3736aabf",
   "metadata": {},
   "outputs": [],
   "source": []
  }
 ],
 "metadata": {
  "kernelspec": {
   "display_name": "Python 3 (ipykernel)",
   "language": "python",
   "name": "python3"
  },
  "language_info": {
   "codemirror_mode": {
    "name": "ipython",
    "version": 3
   },
   "file_extension": ".py",
   "mimetype": "text/x-python",
   "name": "python",
   "nbconvert_exporter": "python",
   "pygments_lexer": "ipython3",
   "version": "3.11.4"
  }
 },
 "nbformat": 4,
 "nbformat_minor": 5
}
