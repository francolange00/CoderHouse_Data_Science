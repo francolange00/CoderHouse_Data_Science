{
 "cells": [
  {
   "cell_type": "code",
   "execution_count": 41,
   "id": "ecffe06c-8b69-4957-9f13-52d8608ec75d",
   "metadata": {},
   "outputs": [],
   "source": [
    "import requests\n",
    "import json\n",
    "import pandas as pd\n",
    "from tabulate import tabulate\n",
    "from datetime import datetime\n"
   ]
  },
  {
   "cell_type": "markdown",
   "id": "bfaeb9ea-ab14-4bbe-b22a-47f16bdfbc01",
   "metadata": {},
   "source": [
    "A continuación se muestra una implementación de acceso a una API para obtener información sobre el clima en tiempo real. Esto puede llegar a ser útil para poder determinar la probabilidad de que exista un incendio en una determinada zona geografica en función de la localización, la fecha y el clima:"
   ]
  },
  {
   "cell_type": "code",
   "execution_count": 44,
   "id": "b22fb579-9a8a-41b4-b17d-842846a0082f",
   "metadata": {
    "tags": []
   },
   "outputs": [
    {
     "name": "stdout",
     "output_type": "stream",
     "text": [
      "Diccionario extraido de la API:\n",
      "{\"coord\":{\"lon\":32.8256,\"lat\":39.9301},\"weather\":[{\"id\":800,\"main\":\"Clear\",\"description\":\"clear sky\",\"icon\":\"01n\"}],\"base\":\"stations\",\"main\":{\"temp\":282.99,\"feels_like\":282.99,\"temp_min\":279.6,\"temp_max\":283.34,\"pressure\":1013,\"humidity\":71},\"visibility\":10000,\"wind\":{\"speed\":0.45,\"deg\":216,\"gust\":0.89},\"clouds\":{\"all\":6},\"dt\":1700783455,\"sys\":{\"type\":2,\"id\":2087224,\"country\":\"TR\",\"sunrise\":1700801003,\"sunset\":1700836049},\"timezone\":10800,\"id\":323784,\"name\":\"Ankara Province\",\"cod\":200}\n",
      "\n",
      " Datos obtenidos en formato de tabla: \n",
      "\n",
      "+-----------------+---------------------------------------------------------------------------+\n",
      "| Campo           | Valor                                                                     |\n",
      "+=================+===========================================================================+\n",
      "| coord.lon       | 32.8256                                                                   |\n",
      "+-----------------+---------------------------------------------------------------------------+\n",
      "| coord.lat       | 39.9301                                                                   |\n",
      "+-----------------+---------------------------------------------------------------------------+\n",
      "| weather         | [{'id': 800, 'main': 'Clear', 'description': 'clear sky', 'icon': '01n'}] |\n",
      "+-----------------+---------------------------------------------------------------------------+\n",
      "| base            | stations                                                                  |\n",
      "+-----------------+---------------------------------------------------------------------------+\n",
      "| main.temp       | 282.99                                                                    |\n",
      "+-----------------+---------------------------------------------------------------------------+\n",
      "| main.feels_like | 282.99                                                                    |\n",
      "+-----------------+---------------------------------------------------------------------------+\n",
      "| main.temp_min   | 279.6                                                                     |\n",
      "+-----------------+---------------------------------------------------------------------------+\n",
      "| main.temp_max   | 283.34                                                                    |\n",
      "+-----------------+---------------------------------------------------------------------------+\n",
      "| main.pressure   | 1013                                                                      |\n",
      "+-----------------+---------------------------------------------------------------------------+\n",
      "| main.humidity   | 71                                                                        |\n",
      "+-----------------+---------------------------------------------------------------------------+\n",
      "| visibility      | 10000                                                                     |\n",
      "+-----------------+---------------------------------------------------------------------------+\n",
      "| wind.speed      | 0.45                                                                      |\n",
      "+-----------------+---------------------------------------------------------------------------+\n",
      "| wind.deg        | 216                                                                       |\n",
      "+-----------------+---------------------------------------------------------------------------+\n",
      "| wind.gust       | 0.89                                                                      |\n",
      "+-----------------+---------------------------------------------------------------------------+\n",
      "| clouds.all      | 6                                                                         |\n",
      "+-----------------+---------------------------------------------------------------------------+\n",
      "| dt              | 1700783455                                                                |\n",
      "+-----------------+---------------------------------------------------------------------------+\n",
      "| sys.type        | 2                                                                         |\n",
      "+-----------------+---------------------------------------------------------------------------+\n",
      "| sys.id          | 2087224                                                                   |\n",
      "+-----------------+---------------------------------------------------------------------------+\n",
      "| sys.country     | TR                                                                        |\n",
      "+-----------------+---------------------------------------------------------------------------+\n",
      "| sys.sunrise     | 1700801003                                                                |\n",
      "+-----------------+---------------------------------------------------------------------------+\n",
      "| sys.sunset      | 1700836049                                                                |\n",
      "+-----------------+---------------------------------------------------------------------------+\n",
      "| timezone        | 10800                                                                     |\n",
      "+-----------------+---------------------------------------------------------------------------+\n",
      "| id              | 323784                                                                    |\n",
      "+-----------------+---------------------------------------------------------------------------+\n",
      "| name            | Ankara Province                                                           |\n",
      "+-----------------+---------------------------------------------------------------------------+\n",
      "| cod             | 200                                                                       |\n",
      "+-----------------+---------------------------------------------------------------------------+\n"
     ]
    }
   ],
   "source": [
    "# Calve para acceder a la API de openweather\n",
    "api_key = 'c7a27c0583cff70513feb3061d79f515'\n",
    "\n",
    "# 'LATITUD' y 'LONGITUD' con las coordenadas de la ubicación de Ankara, capital de turquí (a modo de ejemplo):\n",
    "latitud = '39.9301444478438'\n",
    "longitud = '32.825552172179016'\n",
    "\n",
    "# Obtenemos la fecha actual en formato YYYY-MM-DD \n",
    "fecha = datetime.now().strftime('%Y-%m-%d')\n",
    "\n",
    "# URL de la API de openweather para obtener datos en tiempo real\n",
    "url = f'https://api.openweathermap.org/data/2.5/weather?lat={latitud}&lon={longitud}&appid={api_key}'\n",
    "\n",
    "#Se realiza la solicitud a la API\n",
    "response = requests.get(url)\n",
    "print('Diccionario extraido de la API:')\n",
    "print(response.text)\n",
    "\n",
    "if response.status_code == 200:\n",
    "    weather_data = json.loads(response.text)\n",
    "    \n",
    "    # Se crea una tabla con la información de la respuesta\n",
    "    table_data = []\n",
    "    for key, value in weather_data.items():\n",
    "        if isinstance(value, dict):\n",
    "            # Si el valor es un diccionario, lo mostramos como una fila de la tabla\n",
    "            for sub_key, sub_value in value.items():\n",
    "                table_data.append([f\"{key}.{sub_key}\", sub_value])\n",
    "        else:\n",
    "            table_data.append([key, value])\n",
    "\n",
    "    # Imprimir la tabla\n",
    "    print(\"\\n Datos obtenidos en formato de tabla: \\n\")\n",
    "    print(tabulate(table_data, headers=['Campo', 'Valor'], tablefmt='grid'))\n",
    "else:\n",
    "    print(f'Error en la solicitud: {response.status_code}')"
   ]
  },
  {
   "cell_type": "code",
   "execution_count": null,
   "id": "d89bceec-1a8e-44fe-9508-3725d52ab911",
   "metadata": {},
   "outputs": [],
   "source": []
  },
  {
   "cell_type": "code",
   "execution_count": null,
   "id": "a3d779cc-e7fd-4786-943c-6761804df26c",
   "metadata": {},
   "outputs": [],
   "source": []
  }
 ],
 "metadata": {
  "kernelspec": {
   "display_name": "Python 3 (ipykernel)",
   "language": "python",
   "name": "python3"
  },
  "language_info": {
   "codemirror_mode": {
    "name": "ipython",
    "version": 3
   },
   "file_extension": ".py",
   "mimetype": "text/x-python",
   "name": "python",
   "nbconvert_exporter": "python",
   "pygments_lexer": "ipython3",
   "version": "3.11.4"
  }
 },
 "nbformat": 4,
 "nbformat_minor": 5
}
